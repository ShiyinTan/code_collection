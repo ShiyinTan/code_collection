{
 "cells": [
  {
   "cell_type": "code",
   "execution_count": null,
   "metadata": {},
   "outputs": [],
   "source": [
    "import torch\n",
    "import torch.nn as nn\n",
    "import torch.nn.functional as F"
   ]
  },
  {
   "cell_type": "markdown",
   "metadata": {},
   "source": [
    "#### Multi head attention"
   ]
  },
  {
   "cell_type": "code",
   "execution_count": null,
   "metadata": {},
   "outputs": [],
   "source": [
    "class MultiheadAttentionLayer(nn.Module):\n",
    "    def __init__(self, input_dim, hid_dim, n_heads, dropout, device):\n",
    "        super().__init__()\n",
    "        assert hid_dim % n_heads == 0\n",
    "        self.hid_dim = hid_dim\n",
    "        self.n_heads = n_heads\n",
    "        self.head_dim = hid_dim//n_heads\n",
    "        \n",
    "        self.fc_q = nn.Linear(input_dim, hid_dim)\n",
    "        self.fc_k = nn.Linear(input_dim, hid_dim)\n",
    "        self.fc_v = nn.Linear(input_dim, hid_dim)\n",
    "        \n",
    "        self.fc_o = nn.Linear(hid_dim, hid_dim)\n",
    "        self.dropout = nn.Dropout(dropout)\n",
    "        self.scale = torch.sqrt(torch.FloatTensor([self.head_dim])).to(device)\n",
    "    \n",
    "    def forward(self, query, key, value, temp=1.0, mask = None):\n",
    "        # query = [batch_size, query_len, input_dim]\n",
    "        # key = [batch_size, key_len, input_dim]\n",
    "        # value = [batch_size, value_len, input_dim]\n",
    "        batch_size = query.shape[0]\n",
    "        \n",
    "        Q = self.fc_q(query) # [bs, query len, hid dim]\n",
    "        K = self.fc_k(key)\n",
    "        V = self.fc_v(value)\n",
    "        \n",
    "        Q = Q.view(batch_size, -1, self.n_heads, self.head_dim).permute(0,2,1,3) # [bs, n heads, query len, head dim]\n",
    "        K = K.view(batch_size, -1, self.n_heads, self.head_dim).permute(0,2,1,3)\n",
    "        V = V.view(batch_size, -1, self.n_heads, self.head_dim).permute(0,2,1,3)\n",
    "        \n",
    "        energy = torch.matmul(Q, K.permute(0,1,3,2)) / self.scale # [bs, n heads, query len, key len]\n",
    "        if mask is not None:\n",
    "            energy = energy.masked_fill(mask==0, -1e10)\n",
    "        \n",
    "        attention = torch.softmax(energy/temp, dim=-1) # [bs, n heads, query len, key len]\n",
    "        x = torch.matmul(self.dropout(attention), V) # [bs, query len, n heads, head dim]\n",
    "        x = x.permute(0,2,1,3).contiguous()\n",
    "        x = x.view(batch_size, -1, self.hid_dim) # [bs, query len, hid dim]\n",
    "        x = self.fc_o(x)\n",
    "        return x, attention"
   ]
  },
  {
   "cell_type": "code",
   "execution_count": null,
   "metadata": {},
   "outputs": [],
   "source": [
    "mha = MultiheadAttentionLayer(1, 32, 2, 0, 'cpu')\n",
    "x = torch.rand((10, 4, 1))\n",
    "\n",
    "mha(x,x,x,1)[0].shape, mha(x,x,x,1)[1].shape"
   ]
  }
 ],
 "metadata": {
  "kernelspec": {
   "display_name": "py3.9",
   "language": "python",
   "name": "python3"
  },
  "language_info": {
   "name": "python",
   "version": "3.9.18"
  }
 },
 "nbformat": 4,
 "nbformat_minor": 2
}
